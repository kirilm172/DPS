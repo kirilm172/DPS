{
 "cells": [
  {
   "attachments": {},
   "cell_type": "markdown",
   "metadata": {},
   "source": [
    "# Personal task\n",
    "\n",
    "done by Malyshev Kyrylo"
   ]
  },
  {
   "cell_type": "code",
   "execution_count": 1,
   "metadata": {},
   "outputs": [],
   "source": [
    "import pandas as pd\n",
    "from matplotlib import pyplot as plt\n",
    "import seaborn as sns\n"
   ]
  },
  {
   "attachments": {},
   "cell_type": "markdown",
   "metadata": {},
   "source": [
    "What can be better then classic Titanic dataset?\n",
    "\n",
    "Right answer - **nothing!**"
   ]
  },
  {
   "attachments": {},
   "cell_type": "markdown",
   "metadata": {},
   "source": [
    "### 1. Merge data"
   ]
  },
  {
   "cell_type": "code",
   "execution_count": 2,
   "metadata": {},
   "outputs": [
    {
     "data": {
      "text/html": [
       "<div>\n",
       "<style scoped>\n",
       "    .dataframe tbody tr th:only-of-type {\n",
       "        vertical-align: middle;\n",
       "    }\n",
       "\n",
       "    .dataframe tbody tr th {\n",
       "        vertical-align: top;\n",
       "    }\n",
       "\n",
       "    .dataframe thead th {\n",
       "        text-align: right;\n",
       "    }\n",
       "</style>\n",
       "<table border=\"1\" class=\"dataframe\">\n",
       "  <thead>\n",
       "    <tr style=\"text-align: right;\">\n",
       "      <th></th>\n",
       "      <th>Survived</th>\n",
       "      <th>Pclass</th>\n",
       "      <th>Name</th>\n",
       "      <th>Sex</th>\n",
       "      <th>Age</th>\n",
       "      <th>SibSp</th>\n",
       "      <th>Parch</th>\n",
       "      <th>Ticket</th>\n",
       "      <th>Fare</th>\n",
       "      <th>Cabin</th>\n",
       "      <th>Embarked</th>\n",
       "    </tr>\n",
       "    <tr>\n",
       "      <th>PassengerId</th>\n",
       "      <th></th>\n",
       "      <th></th>\n",
       "      <th></th>\n",
       "      <th></th>\n",
       "      <th></th>\n",
       "      <th></th>\n",
       "      <th></th>\n",
       "      <th></th>\n",
       "      <th></th>\n",
       "      <th></th>\n",
       "      <th></th>\n",
       "    </tr>\n",
       "  </thead>\n",
       "  <tbody>\n",
       "    <tr>\n",
       "      <th>1</th>\n",
       "      <td>0</td>\n",
       "      <td>3</td>\n",
       "      <td>Braund, Mr. Owen Harris</td>\n",
       "      <td>male</td>\n",
       "      <td>22.0</td>\n",
       "      <td>1</td>\n",
       "      <td>0</td>\n",
       "      <td>A/5 21171</td>\n",
       "      <td>7.2500</td>\n",
       "      <td>NaN</td>\n",
       "      <td>S</td>\n",
       "    </tr>\n",
       "    <tr>\n",
       "      <th>2</th>\n",
       "      <td>1</td>\n",
       "      <td>1</td>\n",
       "      <td>Cumings, Mrs. John Bradley (Florence Briggs Th...</td>\n",
       "      <td>female</td>\n",
       "      <td>38.0</td>\n",
       "      <td>1</td>\n",
       "      <td>0</td>\n",
       "      <td>PC 17599</td>\n",
       "      <td>71.2833</td>\n",
       "      <td>C85</td>\n",
       "      <td>C</td>\n",
       "    </tr>\n",
       "    <tr>\n",
       "      <th>3</th>\n",
       "      <td>1</td>\n",
       "      <td>3</td>\n",
       "      <td>Heikkinen, Miss. Laina</td>\n",
       "      <td>female</td>\n",
       "      <td>26.0</td>\n",
       "      <td>0</td>\n",
       "      <td>0</td>\n",
       "      <td>STON/O2. 3101282</td>\n",
       "      <td>7.9250</td>\n",
       "      <td>NaN</td>\n",
       "      <td>S</td>\n",
       "    </tr>\n",
       "    <tr>\n",
       "      <th>4</th>\n",
       "      <td>1</td>\n",
       "      <td>1</td>\n",
       "      <td>Futrelle, Mrs. Jacques Heath (Lily May Peel)</td>\n",
       "      <td>female</td>\n",
       "      <td>35.0</td>\n",
       "      <td>1</td>\n",
       "      <td>0</td>\n",
       "      <td>113803</td>\n",
       "      <td>53.1000</td>\n",
       "      <td>C123</td>\n",
       "      <td>S</td>\n",
       "    </tr>\n",
       "    <tr>\n",
       "      <th>5</th>\n",
       "      <td>0</td>\n",
       "      <td>3</td>\n",
       "      <td>Allen, Mr. William Henry</td>\n",
       "      <td>male</td>\n",
       "      <td>35.0</td>\n",
       "      <td>0</td>\n",
       "      <td>0</td>\n",
       "      <td>373450</td>\n",
       "      <td>8.0500</td>\n",
       "      <td>NaN</td>\n",
       "      <td>S</td>\n",
       "    </tr>\n",
       "    <tr>\n",
       "      <th>...</th>\n",
       "      <td>...</td>\n",
       "      <td>...</td>\n",
       "      <td>...</td>\n",
       "      <td>...</td>\n",
       "      <td>...</td>\n",
       "      <td>...</td>\n",
       "      <td>...</td>\n",
       "      <td>...</td>\n",
       "      <td>...</td>\n",
       "      <td>...</td>\n",
       "      <td>...</td>\n",
       "    </tr>\n",
       "    <tr>\n",
       "      <th>887</th>\n",
       "      <td>0</td>\n",
       "      <td>2</td>\n",
       "      <td>Montvila, Rev. Juozas</td>\n",
       "      <td>male</td>\n",
       "      <td>27.0</td>\n",
       "      <td>0</td>\n",
       "      <td>0</td>\n",
       "      <td>211536</td>\n",
       "      <td>13.0000</td>\n",
       "      <td>NaN</td>\n",
       "      <td>S</td>\n",
       "    </tr>\n",
       "    <tr>\n",
       "      <th>888</th>\n",
       "      <td>1</td>\n",
       "      <td>1</td>\n",
       "      <td>Graham, Miss. Margaret Edith</td>\n",
       "      <td>female</td>\n",
       "      <td>19.0</td>\n",
       "      <td>0</td>\n",
       "      <td>0</td>\n",
       "      <td>112053</td>\n",
       "      <td>30.0000</td>\n",
       "      <td>B42</td>\n",
       "      <td>S</td>\n",
       "    </tr>\n",
       "    <tr>\n",
       "      <th>889</th>\n",
       "      <td>0</td>\n",
       "      <td>3</td>\n",
       "      <td>Johnston, Miss. Catherine Helen \"Carrie\"</td>\n",
       "      <td>female</td>\n",
       "      <td>NaN</td>\n",
       "      <td>1</td>\n",
       "      <td>2</td>\n",
       "      <td>W./C. 6607</td>\n",
       "      <td>23.4500</td>\n",
       "      <td>NaN</td>\n",
       "      <td>S</td>\n",
       "    </tr>\n",
       "    <tr>\n",
       "      <th>890</th>\n",
       "      <td>1</td>\n",
       "      <td>1</td>\n",
       "      <td>Behr, Mr. Karl Howell</td>\n",
       "      <td>male</td>\n",
       "      <td>26.0</td>\n",
       "      <td>0</td>\n",
       "      <td>0</td>\n",
       "      <td>111369</td>\n",
       "      <td>30.0000</td>\n",
       "      <td>C148</td>\n",
       "      <td>C</td>\n",
       "    </tr>\n",
       "    <tr>\n",
       "      <th>891</th>\n",
       "      <td>0</td>\n",
       "      <td>3</td>\n",
       "      <td>Dooley, Mr. Patrick</td>\n",
       "      <td>male</td>\n",
       "      <td>32.0</td>\n",
       "      <td>0</td>\n",
       "      <td>0</td>\n",
       "      <td>370376</td>\n",
       "      <td>7.7500</td>\n",
       "      <td>NaN</td>\n",
       "      <td>Q</td>\n",
       "    </tr>\n",
       "  </tbody>\n",
       "</table>\n",
       "<p>891 rows × 11 columns</p>\n",
       "</div>"
      ],
      "text/plain": [
       "             Survived  Pclass  \\\n",
       "PassengerId                     \n",
       "1                   0       3   \n",
       "2                   1       1   \n",
       "3                   1       3   \n",
       "4                   1       1   \n",
       "5                   0       3   \n",
       "...               ...     ...   \n",
       "887                 0       2   \n",
       "888                 1       1   \n",
       "889                 0       3   \n",
       "890                 1       1   \n",
       "891                 0       3   \n",
       "\n",
       "                                                          Name     Sex   Age  \\\n",
       "PassengerId                                                                    \n",
       "1                                      Braund, Mr. Owen Harris    male  22.0   \n",
       "2            Cumings, Mrs. John Bradley (Florence Briggs Th...  female  38.0   \n",
       "3                                       Heikkinen, Miss. Laina  female  26.0   \n",
       "4                 Futrelle, Mrs. Jacques Heath (Lily May Peel)  female  35.0   \n",
       "5                                     Allen, Mr. William Henry    male  35.0   \n",
       "...                                                        ...     ...   ...   \n",
       "887                                      Montvila, Rev. Juozas    male  27.0   \n",
       "888                               Graham, Miss. Margaret Edith  female  19.0   \n",
       "889                   Johnston, Miss. Catherine Helen \"Carrie\"  female   NaN   \n",
       "890                                      Behr, Mr. Karl Howell    male  26.0   \n",
       "891                                        Dooley, Mr. Patrick    male  32.0   \n",
       "\n",
       "             SibSp  Parch            Ticket     Fare Cabin Embarked  \n",
       "PassengerId                                                          \n",
       "1                1      0         A/5 21171   7.2500   NaN        S  \n",
       "2                1      0          PC 17599  71.2833   C85        C  \n",
       "3                0      0  STON/O2. 3101282   7.9250   NaN        S  \n",
       "4                1      0            113803  53.1000  C123        S  \n",
       "5                0      0            373450   8.0500   NaN        S  \n",
       "...            ...    ...               ...      ...   ...      ...  \n",
       "887              0      0            211536  13.0000   NaN        S  \n",
       "888              0      0            112053  30.0000   B42        S  \n",
       "889              1      2        W./C. 6607  23.4500   NaN        S  \n",
       "890              0      0            111369  30.0000  C148        C  \n",
       "891              0      0            370376   7.7500   NaN        Q  \n",
       "\n",
       "[891 rows x 11 columns]"
      ]
     },
     "execution_count": 2,
     "metadata": {},
     "output_type": "execute_result"
    }
   ],
   "source": [
    "df = pd.read_csv('titanic/train.csv')\n",
    "df = df.set_index('PassengerId')\n",
    "df\n"
   ]
  },
  {
   "attachments": {},
   "cell_type": "markdown",
   "metadata": {},
   "source": [
    "### 2. Some statistic of people on Titanic"
   ]
  },
  {
   "cell_type": "code",
   "execution_count": 3,
   "metadata": {},
   "outputs": [
    {
     "name": "stderr",
     "output_type": "stream",
     "text": [
      "C:\\Users\\kiril\\AppData\\Local\\Temp\\ipykernel_4264\\2728084223.py:5: FutureWarning: The default value of numeric_only in DataFrame.corr is deprecated. In a future version, it will default to False. Select only valid columns or specify the value of numeric_only to silence this warning.\n",
      "  data.corr().style.background_gradient()\n"
     ]
    },
    {
     "data": {
      "text/html": [
       "<style type=\"text/css\">\n",
       "#T_82060_row0_col0, #T_82060_row1_col1, #T_82060_row2_col2, #T_82060_row3_col3, #T_82060_row4_col4, #T_82060_row5_col5, #T_82060_row6_col6, #T_82060_row7_col7 {\n",
       "  background-color: #023858;\n",
       "  color: #f1f1f1;\n",
       "}\n",
       "#T_82060_row0_col1 {\n",
       "  background-color: #eae6f1;\n",
       "  color: #000000;\n",
       "}\n",
       "#T_82060_row0_col2 {\n",
       "  background-color: #4496c3;\n",
       "  color: #f1f1f1;\n",
       "}\n",
       "#T_82060_row0_col3, #T_82060_row0_col4, #T_82060_row4_col7, #T_82060_row7_col4 {\n",
       "  background-color: #d9d8ea;\n",
       "  color: #000000;\n",
       "}\n",
       "#T_82060_row0_col5 {\n",
       "  background-color: #d5d5e8;\n",
       "  color: #000000;\n",
       "}\n",
       "#T_82060_row0_col6 {\n",
       "  background-color: #69a5cc;\n",
       "  color: #f1f1f1;\n",
       "}\n",
       "#T_82060_row0_col7, #T_82060_row5_col2 {\n",
       "  background-color: #b4c4df;\n",
       "  color: #000000;\n",
       "}\n",
       "#T_82060_row1_col0, #T_82060_row1_col2, #T_82060_row1_col3, #T_82060_row1_col6, #T_82060_row1_col7, #T_82060_row3_col4, #T_82060_row3_col5, #T_82060_row6_col1 {\n",
       "  background-color: #fff7fb;\n",
       "  color: #000000;\n",
       "}\n",
       "#T_82060_row1_col4, #T_82060_row7_col3 {\n",
       "  background-color: #c0c9e2;\n",
       "  color: #000000;\n",
       "}\n",
       "#T_82060_row1_col5 {\n",
       "  background-color: #e1dfed;\n",
       "  color: #000000;\n",
       "}\n",
       "#T_82060_row2_col0 {\n",
       "  background-color: #2987bc;\n",
       "  color: #f1f1f1;\n",
       "}\n",
       "#T_82060_row2_col1, #T_82060_row3_col7 {\n",
       "  background-color: #cacee5;\n",
       "  color: #000000;\n",
       "}\n",
       "#T_82060_row2_col3 {\n",
       "  background-color: #dbdaeb;\n",
       "  color: #000000;\n",
       "}\n",
       "#T_82060_row2_col4 {\n",
       "  background-color: #b8c6e0;\n",
       "  color: #000000;\n",
       "}\n",
       "#T_82060_row2_col5, #T_82060_row5_col1 {\n",
       "  background-color: #a9bfdc;\n",
       "  color: #000000;\n",
       "}\n",
       "#T_82060_row2_col6 {\n",
       "  background-color: #80aed2;\n",
       "  color: #f1f1f1;\n",
       "}\n",
       "#T_82060_row2_col7 {\n",
       "  background-color: #d0d1e6;\n",
       "  color: #000000;\n",
       "}\n",
       "#T_82060_row3_col0 {\n",
       "  background-color: #dddbec;\n",
       "  color: #000000;\n",
       "}\n",
       "#T_82060_row3_col1 {\n",
       "  background-color: #eee8f3;\n",
       "  color: #000000;\n",
       "}\n",
       "#T_82060_row3_col2 {\n",
       "  background-color: #faf3f9;\n",
       "  color: #000000;\n",
       "}\n",
       "#T_82060_row3_col6 {\n",
       "  background-color: #96b6d7;\n",
       "  color: #000000;\n",
       "}\n",
       "#T_82060_row4_col0 {\n",
       "  background-color: #d6d6e9;\n",
       "  color: #000000;\n",
       "}\n",
       "#T_82060_row4_col1 {\n",
       "  background-color: #99b8d8;\n",
       "  color: #000000;\n",
       "}\n",
       "#T_82060_row4_col2 {\n",
       "  background-color: #d8d7e9;\n",
       "  color: #000000;\n",
       "}\n",
       "#T_82060_row4_col3 {\n",
       "  background-color: #f8f1f8;\n",
       "  color: #000000;\n",
       "}\n",
       "#T_82060_row4_col5 {\n",
       "  background-color: #6fa7ce;\n",
       "  color: #f1f1f1;\n",
       "}\n",
       "#T_82060_row4_col6 {\n",
       "  background-color: #84b0d3;\n",
       "  color: #f1f1f1;\n",
       "}\n",
       "#T_82060_row5_col0 {\n",
       "  background-color: #bbc7e0;\n",
       "  color: #000000;\n",
       "}\n",
       "#T_82060_row5_col3 {\n",
       "  background-color: #ebe6f2;\n",
       "  color: #000000;\n",
       "}\n",
       "#T_82060_row5_col4 {\n",
       "  background-color: #5a9ec9;\n",
       "  color: #f1f1f1;\n",
       "}\n",
       "#T_82060_row5_col6 {\n",
       "  background-color: #76aad0;\n",
       "  color: #f1f1f1;\n",
       "}\n",
       "#T_82060_row5_col7 {\n",
       "  background-color: #cccfe5;\n",
       "  color: #000000;\n",
       "}\n",
       "#T_82060_row6_col0 {\n",
       "  background-color: #8bb2d4;\n",
       "  color: #000000;\n",
       "}\n",
       "#T_82060_row6_col2 {\n",
       "  background-color: #c6cce3;\n",
       "  color: #000000;\n",
       "}\n",
       "#T_82060_row6_col3 {\n",
       "  background-color: #b3c3de;\n",
       "  color: #000000;\n",
       "}\n",
       "#T_82060_row6_col4 {\n",
       "  background-color: #acc0dd;\n",
       "  color: #000000;\n",
       "}\n",
       "#T_82060_row6_col5 {\n",
       "  background-color: #b1c2de;\n",
       "  color: #000000;\n",
       "}\n",
       "#T_82060_row6_col7 {\n",
       "  background-color: #8cb3d5;\n",
       "  color: #000000;\n",
       "}\n",
       "#T_82060_row7_col0 {\n",
       "  background-color: #b0c2de;\n",
       "  color: #000000;\n",
       "}\n",
       "#T_82060_row7_col1 {\n",
       "  background-color: #e5e1ef;\n",
       "  color: #000000;\n",
       "}\n",
       "#T_82060_row7_col2 {\n",
       "  background-color: #e9e5f1;\n",
       "  color: #000000;\n",
       "}\n",
       "#T_82060_row7_col5 {\n",
       "  background-color: #dedcec;\n",
       "  color: #000000;\n",
       "}\n",
       "#T_82060_row7_col6 {\n",
       "  background-color: #65a3cb;\n",
       "  color: #f1f1f1;\n",
       "}\n",
       "</style>\n",
       "<table id=\"T_82060\">\n",
       "  <thead>\n",
       "    <tr>\n",
       "      <th class=\"blank level0\" >&nbsp;</th>\n",
       "      <th id=\"T_82060_level0_col0\" class=\"col_heading level0 col0\" >Survived</th>\n",
       "      <th id=\"T_82060_level0_col1\" class=\"col_heading level0 col1\" >Pclass</th>\n",
       "      <th id=\"T_82060_level0_col2\" class=\"col_heading level0 col2\" >Sex</th>\n",
       "      <th id=\"T_82060_level0_col3\" class=\"col_heading level0 col3\" >Age</th>\n",
       "      <th id=\"T_82060_level0_col4\" class=\"col_heading level0 col4\" >SibSp</th>\n",
       "      <th id=\"T_82060_level0_col5\" class=\"col_heading level0 col5\" >Parch</th>\n",
       "      <th id=\"T_82060_level0_col6\" class=\"col_heading level0 col6\" >Fare</th>\n",
       "      <th id=\"T_82060_level0_col7\" class=\"col_heading level0 col7\" >Embarked</th>\n",
       "    </tr>\n",
       "  </thead>\n",
       "  <tbody>\n",
       "    <tr>\n",
       "      <th id=\"T_82060_level0_row0\" class=\"row_heading level0 row0\" >Survived</th>\n",
       "      <td id=\"T_82060_row0_col0\" class=\"data row0 col0\" >1.000000</td>\n",
       "      <td id=\"T_82060_row0_col1\" class=\"data row0 col1\" >-0.338481</td>\n",
       "      <td id=\"T_82060_row0_col2\" class=\"data row0 col2\" >0.543351</td>\n",
       "      <td id=\"T_82060_row0_col3\" class=\"data row0 col3\" >-0.077221</td>\n",
       "      <td id=\"T_82060_row0_col4\" class=\"data row0 col4\" >-0.035322</td>\n",
       "      <td id=\"T_82060_row0_col5\" class=\"data row0 col5\" >0.081629</td>\n",
       "      <td id=\"T_82060_row0_col6\" class=\"data row0 col6\" >0.257307</td>\n",
       "      <td id=\"T_82060_row0_col7\" class=\"data row0 col7\" >0.126753</td>\n",
       "    </tr>\n",
       "    <tr>\n",
       "      <th id=\"T_82060_level0_row1\" class=\"row_heading level0 row1\" >Pclass</th>\n",
       "      <td id=\"T_82060_row1_col0\" class=\"data row1 col0\" >-0.338481</td>\n",
       "      <td id=\"T_82060_row1_col1\" class=\"data row1 col1\" >1.000000</td>\n",
       "      <td id=\"T_82060_row1_col2\" class=\"data row1 col2\" >-0.131900</td>\n",
       "      <td id=\"T_82060_row1_col3\" class=\"data row1 col3\" >-0.369226</td>\n",
       "      <td id=\"T_82060_row1_col4\" class=\"data row1 col4\" >0.083081</td>\n",
       "      <td id=\"T_82060_row1_col5\" class=\"data row1 col5\" >0.018443</td>\n",
       "      <td id=\"T_82060_row1_col6\" class=\"data row1 col6\" >-0.549500</td>\n",
       "      <td id=\"T_82060_row1_col7\" class=\"data row1 col7\" >-0.307324</td>\n",
       "    </tr>\n",
       "    <tr>\n",
       "      <th id=\"T_82060_level0_row2\" class=\"row_heading level0 row2\" >Sex</th>\n",
       "      <td id=\"T_82060_row2_col0\" class=\"data row2 col0\" >0.543351</td>\n",
       "      <td id=\"T_82060_row2_col1\" class=\"data row2 col1\" >-0.131900</td>\n",
       "      <td id=\"T_82060_row2_col2\" class=\"data row2 col2\" >1.000000</td>\n",
       "      <td id=\"T_82060_row2_col3\" class=\"data row2 col3\" >-0.093254</td>\n",
       "      <td id=\"T_82060_row2_col4\" class=\"data row2 col4\" >0.114631</td>\n",
       "      <td id=\"T_82060_row2_col5\" class=\"data row2 col5\" >0.245489</td>\n",
       "      <td id=\"T_82060_row2_col6\" class=\"data row2 col6\" >0.182333</td>\n",
       "      <td id=\"T_82060_row2_col7\" class=\"data row2 col7\" >0.023175</td>\n",
       "    </tr>\n",
       "    <tr>\n",
       "      <th id=\"T_82060_level0_row3\" class=\"row_heading level0 row3\" >Age</th>\n",
       "      <td id=\"T_82060_row3_col0\" class=\"data row3 col0\" >-0.077221</td>\n",
       "      <td id=\"T_82060_row3_col1\" class=\"data row3 col1\" >-0.369226</td>\n",
       "      <td id=\"T_82060_row3_col2\" class=\"data row3 col2\" >-0.093254</td>\n",
       "      <td id=\"T_82060_row3_col3\" class=\"data row3 col3\" >1.000000</td>\n",
       "      <td id=\"T_82060_row3_col4\" class=\"data row3 col4\" >-0.308247</td>\n",
       "      <td id=\"T_82060_row3_col5\" class=\"data row3 col5\" >-0.189119</td>\n",
       "      <td id=\"T_82060_row3_col6\" class=\"data row3 col6\" >0.096067</td>\n",
       "      <td id=\"T_82060_row3_col7\" class=\"data row3 col7\" >0.042340</td>\n",
       "    </tr>\n",
       "    <tr>\n",
       "      <th id=\"T_82060_level0_row4\" class=\"row_heading level0 row4\" >SibSp</th>\n",
       "      <td id=\"T_82060_row4_col0\" class=\"data row4 col0\" >-0.035322</td>\n",
       "      <td id=\"T_82060_row4_col1\" class=\"data row4 col1\" >0.083081</td>\n",
       "      <td id=\"T_82060_row4_col2\" class=\"data row4 col2\" >0.114631</td>\n",
       "      <td id=\"T_82060_row4_col3\" class=\"data row4 col3\" >-0.308247</td>\n",
       "      <td id=\"T_82060_row4_col4\" class=\"data row4 col4\" >1.000000</td>\n",
       "      <td id=\"T_82060_row4_col5\" class=\"data row4 col5\" >0.414838</td>\n",
       "      <td id=\"T_82060_row4_col6\" class=\"data row4 col6\" >0.159651</td>\n",
       "      <td id=\"T_82060_row4_col7\" class=\"data row4 col7\" >-0.031095</td>\n",
       "    </tr>\n",
       "    <tr>\n",
       "      <th id=\"T_82060_level0_row5\" class=\"row_heading level0 row5\" >Parch</th>\n",
       "      <td id=\"T_82060_row5_col0\" class=\"data row5 col0\" >0.081629</td>\n",
       "      <td id=\"T_82060_row5_col1\" class=\"data row5 col1\" >0.018443</td>\n",
       "      <td id=\"T_82060_row5_col2\" class=\"data row5 col2\" >0.245489</td>\n",
       "      <td id=\"T_82060_row5_col3\" class=\"data row5 col3\" >-0.189119</td>\n",
       "      <td id=\"T_82060_row5_col4\" class=\"data row5 col4\" >0.414838</td>\n",
       "      <td id=\"T_82060_row5_col5\" class=\"data row5 col5\" >1.000000</td>\n",
       "      <td id=\"T_82060_row5_col6\" class=\"data row5 col6\" >0.216225</td>\n",
       "      <td id=\"T_82060_row5_col7\" class=\"data row5 col7\" >0.035756</td>\n",
       "    </tr>\n",
       "    <tr>\n",
       "      <th id=\"T_82060_level0_row6\" class=\"row_heading level0 row6\" >Fare</th>\n",
       "      <td id=\"T_82060_row6_col0\" class=\"data row6 col0\" >0.257307</td>\n",
       "      <td id=\"T_82060_row6_col1\" class=\"data row6 col1\" >-0.549500</td>\n",
       "      <td id=\"T_82060_row6_col2\" class=\"data row6 col2\" >0.182333</td>\n",
       "      <td id=\"T_82060_row6_col3\" class=\"data row6 col3\" >0.096067</td>\n",
       "      <td id=\"T_82060_row6_col4\" class=\"data row6 col4\" >0.159651</td>\n",
       "      <td id=\"T_82060_row6_col5\" class=\"data row6 col5\" >0.216225</td>\n",
       "      <td id=\"T_82060_row6_col6\" class=\"data row6 col6\" >1.000000</td>\n",
       "      <td id=\"T_82060_row6_col7\" class=\"data row6 col7\" >0.269588</td>\n",
       "    </tr>\n",
       "    <tr>\n",
       "      <th id=\"T_82060_level0_row7\" class=\"row_heading level0 row7\" >Embarked</th>\n",
       "      <td id=\"T_82060_row7_col0\" class=\"data row7 col0\" >0.126753</td>\n",
       "      <td id=\"T_82060_row7_col1\" class=\"data row7 col1\" >-0.307324</td>\n",
       "      <td id=\"T_82060_row7_col2\" class=\"data row7 col2\" >0.023175</td>\n",
       "      <td id=\"T_82060_row7_col3\" class=\"data row7 col3\" >0.042340</td>\n",
       "      <td id=\"T_82060_row7_col4\" class=\"data row7 col4\" >-0.031095</td>\n",
       "      <td id=\"T_82060_row7_col5\" class=\"data row7 col5\" >0.035756</td>\n",
       "      <td id=\"T_82060_row7_col6\" class=\"data row7 col6\" >0.269588</td>\n",
       "      <td id=\"T_82060_row7_col7\" class=\"data row7 col7\" >1.000000</td>\n",
       "    </tr>\n",
       "  </tbody>\n",
       "</table>\n"
      ],
      "text/plain": [
       "<pandas.io.formats.style.Styler at 0x2414a47f7c0>"
      ]
     },
     "execution_count": 3,
     "metadata": {},
     "output_type": "execute_result"
    }
   ],
   "source": [
    "data = df.copy()\n",
    "data['Sex'] = data['Sex'].map({'male': 0, 'female': 2, 'Q': 0})\n",
    "data['Embarked'] = data['Embarked'].map({'S': 1, 'C': 2, 'Q': 0})\n",
    "\n",
    "data.corr().style.background_gradient()\n"
   ]
  },
  {
   "attachments": {},
   "cell_type": "markdown",
   "metadata": {},
   "source": [
    "#### 3.1 Sex ratio (male/female)"
   ]
  },
  {
   "cell_type": "code",
   "execution_count": 4,
   "metadata": {},
   "outputs": [
    {
     "data": {
      "text/plain": [
       "1.8375796178343948"
      ]
     },
     "execution_count": 4,
     "metadata": {},
     "output_type": "execute_result"
    }
   ],
   "source": [
    "sum(df['Sex'] == 'male') / sum(df['Sex'] == 'female')\n"
   ]
  },
  {
   "cell_type": "code",
   "execution_count": 5,
   "metadata": {},
   "outputs": [
    {
     "data": {
      "text/plain": [
       "<AxesSubplot: ylabel='Sex'>"
      ]
     },
     "execution_count": 5,
     "metadata": {},
     "output_type": "execute_result"
    },
    {
     "data": {
      "image/png": "[encoded data removed]",
      "text/plain": [
       "<Figure size 640x480 with 1 Axes>"
      ]
     },
     "metadata": {},
     "output_type": "display_data"
    }
   ],
   "source": [
    "df.groupby('Sex')['Sex'].agg(len).plot(kind='pie')\n"
   ]
  },
  {
   "attachments": {},
   "cell_type": "markdown",
   "metadata": {},
   "source": [
    "### 4. Survive stats\n",
    "#### 4.1 Survive stats by Age and Sex"
   ]
  },
  {
   "cell_type": "code",
   "execution_count": 6,
   "metadata": {},
   "outputs": [
    {
     "data": {
      "image/png": "[encoded data removed]",
      "text/plain": [
       "<Figure size 1000x500 with 2 Axes>"
      ]
     },
     "metadata": {},
     "output_type": "display_data"
    }
   ],
   "source": [
    "women = df[df['Sex'] == 'female']\n",
    "men = df[df['Sex'] == 'male']\n",
    "\n",
    "fig, (ax1, ax2) = plt.subplots(1, 2, figsize=(10,5))\n",
    "sns.histplot(women[women['Survived'] == 1].Age.dropna(),\n",
    "             bins=15, label='survived', ax=ax1)\n",
    "sns.histplot(women[women['Survived'] == 0].Age.dropna(),\n",
    "             bins=40, label='not survived', ax=ax1)\n",
    "ax1.set_title('Female')\n",
    "sns.histplot(men[men['Survived'] == 1].Age.dropna(),\n",
    "             bins=15, label='survived', ax=ax2)\n",
    "sns.histplot(men[men['Survived'] == 0].Age.dropna(),\n",
    "             bins=40, label='not survived', ax=ax2)\n",
    "_ = ax2.set_title('Male')\n",
    "\n"
   ]
  },
  {
   "attachments": {},
   "cell_type": "markdown",
   "metadata": {},
   "source": [
    "The chart shows survivors and non-survivors by age and sex. Men have a better chance of surviving between the ages of 18 and 30, which is true to some extent for women as well, but not completely. Women have a higher chance of surviving between the ages of 14 and 40.\n",
    "\n",
    "Men have an extremely low chance of surviving between the ages of 5 and 18, and women do not. Another thing to consider is that newborns have a slightly higher chance of surviving.\n",
    "\n",
    "Because some ages have a higher chance of survival, and because I want all characteristics to be roughly on the same scale, I will develop age groups later."
   ]
  },
  {
   "attachments": {},
   "cell_type": "markdown",
   "metadata": {},
   "source": [
    "#### 4.1 Survive stats by Pclass"
   ]
  },
  {
   "cell_type": "code",
   "execution_count": 7,
   "metadata": {},
   "outputs": [
    {
     "data": {
      "text/plain": [
       "<AxesSubplot: xlabel='Pclass', ylabel='Survived'>"
      ]
     },
     "execution_count": 7,
     "metadata": {},
     "output_type": "execute_result"
    },
    {
     "data": {
      "image/png": "[encoded data removed]",
      "text/plain": [
       "<Figure size 640x480 with 1 Axes>"
      ]
     },
     "metadata": {},
     "output_type": "display_data"
    }
   ],
   "source": [
    "sns.barplot(x='Pclass', y='Survived', data=df)\n"
   ]
  },
  {
   "cell_type": "code",
   "execution_count": 8,
   "metadata": {},
   "outputs": [
    {
     "data": {
      "image/png": "[encoded data removed]",
      "text/plain": [
       "<Figure size 611.111x900 with 6 Axes>"
      ]
     },
     "metadata": {},
     "output_type": "display_data"
    }
   ],
   "source": [
    "grid = sns.FacetGrid(df, col='Survived', row='Pclass')\n",
    "grid.map(plt.hist, 'Age', alpha=.5, bins=20)\n",
    "_ = grid.add_legend()\n"
   ]
  },
  {
   "attachments": {},
   "cell_type": "markdown",
   "metadata": {},
   "source": [
    "Pclass definitely contributes to a person's probability of survival, especially if that person is a class 1. The graph below confirms our theory about pclass 1, but it also shows that a person from pclass 3 has a high risk of death."
   ]
  },
  {
   "attachments": {},
   "cell_type": "markdown",
   "metadata": {},
   "source": [
    "#### 4.2 SibSp and Parch"
   ]
  },
  {
   "attachments": {},
   "cell_type": "markdown",
   "metadata": {},
   "source": [
    "SibSp and Parch would make more sense as a combined feature, that shows the total number of relatives, a person has on the Titanic. I will create it below and also a feature that sows if someone is not alone."
   ]
  },
  {
   "cell_type": "code",
   "execution_count": 9,
   "metadata": {},
   "outputs": [
    {
     "data": {
      "text/plain": [
       "1    537\n",
       "0    354\n",
       "Name: not_alone, dtype: int64"
      ]
     },
     "execution_count": 9,
     "metadata": {},
     "output_type": "execute_result"
    }
   ],
   "source": [
    "df['relatives'] = df['SibSp'] + df['Parch']\n",
    "df.loc[df['relatives'] > 0, 'not_alone'] = 0\n",
    "df.loc[df['relatives'] == 0, 'not_alone'] = 1\n",
    "df['not_alone'] = df['not_alone'].astype(int)\n",
    "df['not_alone'].value_counts()"
   ]
  },
  {
   "cell_type": "code",
   "execution_count": 10,
   "metadata": {},
   "outputs": [
    {
     "data": {
      "image/png": "[encoded data removed]",
      "text/plain": [
       "<Figure size 611.111x600 with 4 Axes>"
      ]
     },
     "metadata": {},
     "output_type": "display_data"
    }
   ],
   "source": [
    "grid = sns.FacetGrid(df, col='Survived', row='not_alone')\n",
    "grid.map(plt.hist, 'Age', alpha=.5, bins=20)\n",
    "_ = grid.add_legend()\n"
   ]
  }
 ],
 "metadata": {
  "kernelspec": {
   "display_name": "Python 3",
   "language": "python",
   "name": "python3"
  },
  "language_info": {
   "codemirror_mode": {
    "name": "ipython",
    "version": 3
   },
   "file_extension": ".py",
   "mimetype": "text/x-python",
   "name": "python",
   "nbconvert_exporter": "python",
   "pygments_lexer": "ipython3",
   "version": "3.10.9"
  },
  "orig_nbformat": 4,
  "vscode": {
   "interpreter": {
    "hash": "7aa719a784a16677ed24900448842f4ebf5c9f824a4c9c7c5b4f9308c12d780a"
   }
  }
 },
 "nbformat": 4,
 "nbformat_minor": 2
}
